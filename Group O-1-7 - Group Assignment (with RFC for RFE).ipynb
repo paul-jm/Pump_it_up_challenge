{
 "cells": [
  {
   "cell_type": "code",
   "execution_count": 3,
   "metadata": {},
   "outputs": [],
   "source": [
    "import csv\n",
    "import numpy as np\n",
    "import pandas as pd\n",
    "import matplotlib.pyplot as plt\n",
    "import seaborn as sns\n",
    "from sklearn.model_selection import RandomizedSearchCV, cross_validate, cross_val_score, train_test_split, ShuffleSplit, GridSearchCV, KFold, StratifiedKFold, RepeatedStratifiedKFold\n",
    "%matplotlib inline\n",
    "from sklearn.metrics import roc_auc_score, roc_curve, accuracy_score, confusion_matrix, mean_squared_error\n",
    "from sklearn.linear_model import LogisticRegression, LinearRegression, Ridge, Lasso\n",
    "from sklearn.pipeline import make_pipeline, Pipeline\n",
    "from sklearn.preprocessing import MinMaxScaler, LabelEncoder, StandardScaler, RobustScaler, PolynomialFeatures\n",
    "from sklearn.feature_selection import RFE, RFECV\n",
    "from sklearn.svm import SVC\n",
    "from scipy.stats import skew, boxcox_normmax\n",
    "from scipy.special import boxcox1p\n",
    "from sklearn.decomposition import PCA\n",
    "from scipy.stats import skew\n",
    "from sklearn.neighbors import KNeighborsClassifier\n",
    "from xgboost import XGBClassifier\n",
    "from sklearn.ensemble import RandomForestClassifier, ExtraTreesClassifier\n",
    "from sklearn.tree import DecisionTreeClassifier\n",
    "from sklearn.naive_bayes import MultinomialNB\n",
    "from bayes_opt import BayesianOptimization\n",
    "from sklearn.model_selection import cross_val_predict"
   ]
  },
  {
   "cell_type": "code",
   "execution_count": 4,
   "metadata": {},
   "outputs": [],
   "source": [
    "data=pd.read_csv('C:/Users/vratu/OneDrive/Desktop/MBD/MBD_Term_2/Machine Learning 2/Group Assignment/Training_Set_Values_joined_prepared1.csv')"
   ]
  },
  {
   "cell_type": "code",
   "execution_count": 5,
   "metadata": {},
   "outputs": [],
   "source": [
    "#data.describe().T"
   ]
  },
  {
   "cell_type": "code",
   "execution_count": 6,
   "metadata": {},
   "outputs": [],
   "source": [
    "#data.info()"
   ]
  },
  {
   "cell_type": "markdown",
   "metadata": {},
   "source": [
    "## Feature preparation (after cleaning on Dataiku)"
   ]
  },
  {
   "cell_type": "code",
   "execution_count": 7,
   "metadata": {},
   "outputs": [],
   "source": [
    "def fix_types_category(df):\n",
    "    df['date_recorded_year'] = df['date_recorded_year'].astype('uint8')\n",
    "    df['funder'] = df['funder'].astype('category')\n",
    "    df['installer'] = df['installer'].astype('category')\n",
    "    df['basin'] = df['basin'].astype('category')\n",
    "    df['region'] = df['region'].astype('category')\n",
    "    df['region-dist'] = df['region-dist'].astype('category')\n",
    "    df['scheme_management'] = df['scheme_management'].astype('category')\n",
    "    df['extraction_type_class'] = df['extraction_type_class'].astype('category')\n",
    "    df['management_group'] = df['management_group'].astype('category')\n",
    "    df['payment'] = df['payment'].astype('category')\n",
    "    df['quality_group'] = df['quality_group'].astype('category')\n",
    "    df['quantity'] = df['quantity'].astype('category')\n",
    "    df['source_type'] = df['source_type'].astype('category')\n",
    "    df['source_class'] = df['source_class'].astype('category')\n",
    "    df['waterpoint_type_group'] = df['waterpoint_type_group'].astype('category')\n",
    "    df['status_group'] = df['status_group'].astype('category')\n",
    "    return df"
   ]
  },
  {
   "cell_type": "code",
   "execution_count": 8,
   "metadata": {},
   "outputs": [],
   "source": [
    "def scale(df):\n",
    "    scaler = MinMaxScaler()\n",
    "    for i in ('population', 'amount_tsh', 'longitude', 'latitude', 'gps_height', 'distance_from_water', 'date_recorded_year'):\n",
    "        df[[i]] = scaler.fit_transform(df[[i]])\n",
    "    return df"
   ]
  },
  {
   "cell_type": "code",
   "execution_count": 9,
   "metadata": {},
   "outputs": [],
   "source": [
    "def feature_skewness(df): \n",
    "    df = df.drop(['latitude', 'longitude'], axis=1)\n",
    "    numeric_dtypes = ['int16', 'int32', 'int64', \n",
    "                      'float16', 'float32', 'float64', 'uint8']\n",
    "    numeric_features = []\n",
    "    for i in df.columns:\n",
    "        if df[i].dtype in numeric_dtypes: \n",
    "            numeric_features.append(i)\n",
    "\n",
    "    feature_skew = df[numeric_features].apply(lambda x: skew(x)).sort_values(ascending=False)\n",
    "    skews = pd.DataFrame({'skew':feature_skew})\n",
    "    return feature_skew, numeric_features\n",
    "\n",
    "def fix_skewness(df):\n",
    "    feature_skew, numeric_features = feature_skewness(df)\n",
    "    high_skew = feature_skew[feature_skew > 0.5]\n",
    "    skew_index = high_skew.index\n",
    "    \n",
    "    for i in skew_index:\n",
    "        df[i] = boxcox1p(df[i], boxcox_normmax(df[i]+1))\n",
    "\n",
    "    skew_features = df[numeric_features].apply(lambda x: skew(x)).sort_values(ascending=False)\n",
    "    skews = pd.DataFrame({'skew':skew_features})\n",
    "    return df"
   ]
  },
  {
   "cell_type": "code",
   "execution_count": 10,
   "metadata": {},
   "outputs": [],
   "source": [
    "def numerical_features(df):\n",
    "    columns = df.columns\n",
    "    return df._get_numeric_data().columns\n",
    "\n",
    "def categorical_features(df):\n",
    "    numerical_columns = numerical_features(df)\n",
    "    return(list(set(df.columns) - set(numerical_columns)))\n",
    "\n",
    "def onehot_encode(df):\n",
    "    df1 = df.drop(['status_group'], axis=1)\n",
    "    numericals = df1.get(numerical_features(df1))\n",
    "    new_df = numericals.copy()\n",
    "    for categorical_column in categorical_features(df1):\n",
    "        new_df = pd.concat([new_df, \n",
    "                            pd.get_dummies(df1[categorical_column], \n",
    "                                           prefix=categorical_column)], \n",
    "                           axis=1)\n",
    "    new_df['status_group'] = df['status_group']\n",
    "    return new_df"
   ]
  },
  {
   "cell_type": "code",
   "execution_count": 11,
   "metadata": {},
   "outputs": [],
   "source": [
    "def data_preparation(df):\n",
    "    temp = df.drop(['id', 'months_since_recorded', 'date_recorded_day', 'date_recorded_month', 'construction_year'], axis=1)\n",
    "    aux = fix_types_category(temp)\n",
    "    aux2 = scale(aux)\n",
    "    aux3 = fix_skewness(aux2)\n",
    "    aux4 = scale(aux3)\n",
    "    final = onehot_encode(aux4)\n",
    "    return final"
   ]
  },
  {
   "cell_type": "code",
   "execution_count": 12,
   "metadata": {},
   "outputs": [
    {
     "name": "stderr",
     "output_type": "stream",
     "text": [
      "C:\\Users\\vratu\\Anaconda3\\lib\\site-packages\\sklearn\\preprocessing\\data.py:323: DataConversionWarning: Data with input dtype int64 were all converted to float64 by MinMaxScaler.\n",
      "  return self.partial_fit(X, y)\n",
      "C:\\Users\\vratu\\Anaconda3\\lib\\site-packages\\sklearn\\preprocessing\\data.py:323: DataConversionWarning: Data with input dtype int64 were all converted to float64 by MinMaxScaler.\n",
      "  return self.partial_fit(X, y)\n",
      "C:\\Users\\vratu\\Anaconda3\\lib\\site-packages\\sklearn\\preprocessing\\data.py:323: DataConversionWarning: Data with input dtype uint8 were all converted to float64 by MinMaxScaler.\n",
      "  return self.partial_fit(X, y)\n"
     ]
    },
    {
     "data": {
      "text/html": [
       "<div>\n",
       "<style scoped>\n",
       "    .dataframe tbody tr th:only-of-type {\n",
       "        vertical-align: middle;\n",
       "    }\n",
       "\n",
       "    .dataframe tbody tr th {\n",
       "        vertical-align: top;\n",
       "    }\n",
       "\n",
       "    .dataframe thead th {\n",
       "        text-align: right;\n",
       "    }\n",
       "</style>\n",
       "<table border=\"1\" class=\"dataframe\">\n",
       "  <thead>\n",
       "    <tr style=\"text-align: right;\">\n",
       "      <th></th>\n",
       "      <th>amount_tsh</th>\n",
       "      <th>date_recorded_year</th>\n",
       "      <th>gvt_funder</th>\n",
       "      <th>gps_height</th>\n",
       "      <th>installer_gvt</th>\n",
       "      <th>longitude</th>\n",
       "      <th>latitude</th>\n",
       "      <th>population</th>\n",
       "      <th>public_meeting</th>\n",
       "      <th>permit</th>\n",
       "      <th>...</th>\n",
       "      <th>source_type_shallow well</th>\n",
       "      <th>source_type_spring</th>\n",
       "      <th>extraction_type_class_gravity</th>\n",
       "      <th>extraction_type_class_handpump</th>\n",
       "      <th>extraction_type_class_motorpump</th>\n",
       "      <th>extraction_type_class_other</th>\n",
       "      <th>extraction_type_class_rope pump</th>\n",
       "      <th>extraction_type_class_submersible</th>\n",
       "      <th>extraction_type_class_wind-powered</th>\n",
       "      <th>status_group</th>\n",
       "    </tr>\n",
       "  </thead>\n",
       "  <tbody>\n",
       "    <tr>\n",
       "      <th>0</th>\n",
       "      <td>1.000000</td>\n",
       "      <td>0.818182</td>\n",
       "      <td>False</td>\n",
       "      <td>0.517483</td>\n",
       "      <td>False</td>\n",
       "      <td>0.865979</td>\n",
       "      <td>0.153923</td>\n",
       "      <td>0.338240</td>\n",
       "      <td>True</td>\n",
       "      <td>False</td>\n",
       "      <td>...</td>\n",
       "      <td>0</td>\n",
       "      <td>1</td>\n",
       "      <td>1</td>\n",
       "      <td>0</td>\n",
       "      <td>0</td>\n",
       "      <td>0</td>\n",
       "      <td>0</td>\n",
       "      <td>0</td>\n",
       "      <td>0</td>\n",
       "      <td>functional</td>\n",
       "    </tr>\n",
       "    <tr>\n",
       "      <th>1</th>\n",
       "      <td>0.000000</td>\n",
       "      <td>1.000000</td>\n",
       "      <td>False</td>\n",
       "      <td>0.520629</td>\n",
       "      <td>False</td>\n",
       "      <td>0.860047</td>\n",
       "      <td>0.815659</td>\n",
       "      <td>0.652706</td>\n",
       "      <td>False</td>\n",
       "      <td>True</td>\n",
       "      <td>...</td>\n",
       "      <td>0</td>\n",
       "      <td>0</td>\n",
       "      <td>1</td>\n",
       "      <td>0</td>\n",
       "      <td>0</td>\n",
       "      <td>0</td>\n",
       "      <td>0</td>\n",
       "      <td>0</td>\n",
       "      <td>0</td>\n",
       "      <td>functional</td>\n",
       "    </tr>\n",
       "    <tr>\n",
       "      <th>2</th>\n",
       "      <td>0.578332</td>\n",
       "      <td>1.000000</td>\n",
       "      <td>False</td>\n",
       "      <td>0.271329</td>\n",
       "      <td>False</td>\n",
       "      <td>0.928504</td>\n",
       "      <td>0.671973</td>\n",
       "      <td>0.611216</td>\n",
       "      <td>True</td>\n",
       "      <td>True</td>\n",
       "      <td>...</td>\n",
       "      <td>0</td>\n",
       "      <td>0</td>\n",
       "      <td>1</td>\n",
       "      <td>0</td>\n",
       "      <td>0</td>\n",
       "      <td>0</td>\n",
       "      <td>0</td>\n",
       "      <td>0</td>\n",
       "      <td>0</td>\n",
       "      <td>functional</td>\n",
       "    </tr>\n",
       "    <tr>\n",
       "      <th>3</th>\n",
       "      <td>0.000000</td>\n",
       "      <td>1.000000</td>\n",
       "      <td>False</td>\n",
       "      <td>0.123427</td>\n",
       "      <td>False</td>\n",
       "      <td>0.953922</td>\n",
       "      <td>0.042418</td>\n",
       "      <td>0.197374</td>\n",
       "      <td>True</td>\n",
       "      <td>True</td>\n",
       "      <td>...</td>\n",
       "      <td>0</td>\n",
       "      <td>0</td>\n",
       "      <td>0</td>\n",
       "      <td>0</td>\n",
       "      <td>0</td>\n",
       "      <td>0</td>\n",
       "      <td>0</td>\n",
       "      <td>1</td>\n",
       "      <td>0</td>\n",
       "      <td>non functional</td>\n",
       "    </tr>\n",
       "    <tr>\n",
       "      <th>4</th>\n",
       "      <td>0.000000</td>\n",
       "      <td>0.818182</td>\n",
       "      <td>False</td>\n",
       "      <td>0.031469</td>\n",
       "      <td>False</td>\n",
       "      <td>0.771612</td>\n",
       "      <td>0.843309</td>\n",
       "      <td>0.000000</td>\n",
       "      <td>True</td>\n",
       "      <td>True</td>\n",
       "      <td>...</td>\n",
       "      <td>0</td>\n",
       "      <td>0</td>\n",
       "      <td>1</td>\n",
       "      <td>0</td>\n",
       "      <td>0</td>\n",
       "      <td>0</td>\n",
       "      <td>0</td>\n",
       "      <td>0</td>\n",
       "      <td>0</td>\n",
       "      <td>functional</td>\n",
       "    </tr>\n",
       "  </tbody>\n",
       "</table>\n",
       "<p>5 rows × 324 columns</p>\n",
       "</div>"
      ],
      "text/plain": [
       "   amount_tsh  date_recorded_year  gvt_funder  gps_height  installer_gvt  \\\n",
       "0    1.000000            0.818182       False    0.517483          False   \n",
       "1    0.000000            1.000000       False    0.520629          False   \n",
       "2    0.578332            1.000000       False    0.271329          False   \n",
       "3    0.000000            1.000000       False    0.123427          False   \n",
       "4    0.000000            0.818182       False    0.031469          False   \n",
       "\n",
       "   longitude  latitude  population  public_meeting  permit       ...        \\\n",
       "0   0.865979  0.153923    0.338240            True   False       ...         \n",
       "1   0.860047  0.815659    0.652706           False    True       ...         \n",
       "2   0.928504  0.671973    0.611216            True    True       ...         \n",
       "3   0.953922  0.042418    0.197374            True    True       ...         \n",
       "4   0.771612  0.843309    0.000000            True    True       ...         \n",
       "\n",
       "   source_type_shallow well  source_type_spring  \\\n",
       "0                         0                   1   \n",
       "1                         0                   0   \n",
       "2                         0                   0   \n",
       "3                         0                   0   \n",
       "4                         0                   0   \n",
       "\n",
       "   extraction_type_class_gravity  extraction_type_class_handpump  \\\n",
       "0                              1                               0   \n",
       "1                              1                               0   \n",
       "2                              1                               0   \n",
       "3                              0                               0   \n",
       "4                              1                               0   \n",
       "\n",
       "   extraction_type_class_motorpump  extraction_type_class_other  \\\n",
       "0                                0                            0   \n",
       "1                                0                            0   \n",
       "2                                0                            0   \n",
       "3                                0                            0   \n",
       "4                                0                            0   \n",
       "\n",
       "   extraction_type_class_rope pump  extraction_type_class_submersible  \\\n",
       "0                                0                                  0   \n",
       "1                                0                                  0   \n",
       "2                                0                                  0   \n",
       "3                                0                                  1   \n",
       "4                                0                                  0   \n",
       "\n",
       "   extraction_type_class_wind-powered    status_group  \n",
       "0                                   0      functional  \n",
       "1                                   0      functional  \n",
       "2                                   0      functional  \n",
       "3                                   0  non functional  \n",
       "4                                   0      functional  \n",
       "\n",
       "[5 rows x 324 columns]"
      ]
     },
     "execution_count": 12,
     "metadata": {},
     "output_type": "execute_result"
    }
   ],
   "source": [
    "dataset = data_preparation(data)\n",
    "dataset.head()"
   ]
  },
  {
   "cell_type": "code",
   "execution_count": 13,
   "metadata": {},
   "outputs": [],
   "source": [
    "# dataset.describe().T"
   ]
  },
  {
   "cell_type": "markdown",
   "metadata": {},
   "source": [
    "#### Basic functions defined"
   ]
  },
  {
   "cell_type": "code",
   "execution_count": 14,
   "metadata": {},
   "outputs": [],
   "source": [
    "def target_encoding(y_train):\n",
    "    le=LabelEncoder()\n",
    "    le.fit(y_train)\n",
    "    print(le.classes_)\n",
    "    y_encoded=le.transform(y_train)\n",
    "    return y_encoded\n",
    "\n",
    "def target_decoding(y_encoded):\n",
    "    le=LabelEncoder()\n",
    "    le.fit(dataset['status_group'])\n",
    "    print(le.classes_)\n",
    "    y_back = le.inverse_transform(y_encoded)\n",
    "    return y_back "
   ]
  },
  {
   "cell_type": "code",
   "execution_count": 15,
   "metadata": {},
   "outputs": [],
   "source": [
    "def data_split(df, seed=666):\n",
    "    X = df.loc[:, df.columns != 'status_group']\n",
    "    y = df.loc[:, 'status_group']\n",
    "    y_encoded = target_encoding(y)\n",
    "    X_train, X_test, y_train, y_test = train_test_split(X, y_encoded, test_size=0.40, random_state=seed)\n",
    "    return X_train, X_test, y_train, y_test"
   ]
  },
  {
   "cell_type": "markdown",
   "metadata": {},
   "source": [
    "### Base-line model prior to feature selection"
   ]
  },
  {
   "cell_type": "code",
   "execution_count": 16,
   "metadata": {},
   "outputs": [
    {
     "name": "stderr",
     "output_type": "stream",
     "text": [
      "C:\\Users\\vratu\\Anaconda3\\lib\\site-packages\\sklearn\\linear_model\\logistic.py:433: FutureWarning: Default solver will be changed to 'lbfgs' in 0.22. Specify a solver to silence this warning.\n",
      "  FutureWarning)\n",
      "C:\\Users\\vratu\\Anaconda3\\lib\\site-packages\\sklearn\\linear_model\\logistic.py:460: FutureWarning: Default multi_class will be changed to 'auto' in 0.22. Specify the multi_class option to silence this warning.\n",
      "  \"this warning.\", FutureWarning)\n"
     ]
    },
    {
     "name": "stdout",
     "output_type": "stream",
     "text": [
      "0.7153\n"
     ]
    }
   ],
   "source": [
    "def model_accuracy(df, seed=666):\n",
    "    X = df.loc[:, df.columns != 'status_group']\n",
    "    y = df.loc[:, 'status_group']\n",
    "    X_train, X_test, y_train, y_test = train_test_split(X, y, test_size=0.20, random_state=seed)\n",
    "\n",
    "    #Logistic Regression Model\n",
    "    logreg = LogisticRegression(class_weight = 'balanced', penalty = 'l1')\n",
    "    logreg.fit(X_train,y_train)\n",
    "    pred=logreg.predict(X_test)\n",
    "    \n",
    "    accuracy = accuracy_score(y_test, pred)    \n",
    "    return accuracy\n",
    "\n",
    "acc = model_accuracy(dataset)\n",
    "print(round(acc,4))"
   ]
  },
  {
   "cell_type": "markdown",
   "metadata": {},
   "source": [
    "# Feature Selection"
   ]
  },
  {
   "cell_type": "markdown",
   "metadata": {},
   "source": [
    "### RFE"
   ]
  },
  {
   "cell_type": "code",
   "execution_count": 17,
   "metadata": {},
   "outputs": [
    {
     "name": "stdout",
     "output_type": "stream",
     "text": [
      "['functional' 'functional needs repair' 'non functional']\n"
     ]
    },
    {
     "data": {
      "image/png": "[encoded data removed]",
      "text/plain": [
       "<Figure size 1440x720 with 1 Axes>"
      ]
     },
     "metadata": {
      "needs_background": "light"
     },
     "output_type": "display_data"
    },
    {
     "name": "stdout",
     "output_type": "stream",
     "text": [
      "<class 'pandas.core.frame.DataFrame'>\n",
      "RangeIndex: 59400 entries, 0 to 59399\n",
      "Columns: 231 entries, amount_tsh to status_group\n",
      "dtypes: bool(4), category(1), float64(7), uint8(219)\n",
      "memory usage: 15.9 MB\n"
     ]
    }
   ],
   "source": [
    "X_train, X_test, y_train, y_test = data_split(dataset) \n",
    "\n",
    "RFE_estimator = RandomForestClassifier(n_estimators=10, class_weight='balanced') # Alternatively, Naive Bayes was used as estimator (MultinomialNB()) which returned 302 features as important features\n",
    "rfecv = RFECV(estimator=RFE_estimator, step=1, cv=5, scoring='accuracy') # try with shuffle =True once\n",
    "rfecv.fit(X_train, y_train)\n",
    "\n",
    "# Plot number of features VS. cross-validation scores\n",
    "plt.figure(figsize=(20,10))\n",
    "plt.xlabel(\"Number of features selected\")\n",
    "plt.ylabel(\"Cross validation score (nb of correct classifications)\")\n",
    "plt.plot(range(1, len(rfecv.grid_scores_) + 1), rfecv.grid_scores_)\n",
    "plt.show()\n",
    "\n",
    "d={'scores':rfecv.grid_scores_, 'n_feats':range(1, len(rfecv.grid_scores_)+1)}\n",
    "rfescores = pd.DataFrame(data=d)\n",
    "rfescores[rfescores['scores']==rfescores['scores'].max()]\n",
    "feats_bestcv=int(rfescores[rfescores['scores']==rfescores['scores'].max()]['n_feats'])\n",
    "feats_bestcv\n",
    "#rfescores[rfescores['scores']==rfescores['scores'].max()]['n_feats']\n",
    "\n",
    "featuresnames=np.array(dataset.columns.drop('status_group'))\n",
    "featuresnames_RFE=featuresnames[np.array(rfecv.support_)]\n",
    "featuresnames_RFE= np.append(featuresnames_RFE, 'status_group')\n",
    "features_RFE=dataset[featuresnames_RFE]\n",
    "\n",
    "features_RFE.info()"
   ]
  },
  {
   "cell_type": "code",
   "execution_count": 18,
   "metadata": {},
   "outputs": [
    {
     "data": {
      "text/plain": [
       "230"
      ]
     },
     "execution_count": 18,
     "metadata": {},
     "output_type": "execute_result"
    }
   ],
   "source": [
    "feats_bestcv"
   ]
  },
  {
   "cell_type": "code",
   "execution_count": 19,
   "metadata": {},
   "outputs": [],
   "source": [
    "#features_RFE.columns"
   ]
  },
  {
   "cell_type": "code",
   "execution_count": 20,
   "metadata": {},
   "outputs": [],
   "source": [
    "#features_RFE = pd.read_csv('C:/Users/vratu/OneDrive/Desktop/MBD/MBD_Term_2/Machine Learning 2/Group Assignment/Training_Set_RFE_FEATURES.csv')"
   ]
  },
  {
   "cell_type": "markdown",
   "metadata": {},
   "source": [
    "### Base-line model post feature selection"
   ]
  },
  {
   "cell_type": "code",
   "execution_count": 21,
   "metadata": {},
   "outputs": [
    {
     "name": "stderr",
     "output_type": "stream",
     "text": [
      "C:\\Users\\vratu\\Anaconda3\\lib\\site-packages\\sklearn\\linear_model\\logistic.py:433: FutureWarning: Default solver will be changed to 'lbfgs' in 0.22. Specify a solver to silence this warning.\n",
      "  FutureWarning)\n",
      "C:\\Users\\vratu\\Anaconda3\\lib\\site-packages\\sklearn\\linear_model\\logistic.py:460: FutureWarning: Default multi_class will be changed to 'auto' in 0.22. Specify the multi_class option to silence this warning.\n",
      "  \"this warning.\", FutureWarning)\n"
     ]
    },
    {
     "name": "stdout",
     "output_type": "stream",
     "text": [
      "0.7125\n"
     ]
    }
   ],
   "source": [
    "acc_RFE = model_accuracy(features_RFE)\n",
    "print(round(acc_RFE,4))"
   ]
  },
  {
   "cell_type": "markdown",
   "metadata": {},
   "source": [
    "Although there is minimal decrease in accuracy scores due to elimindated features - we have proceeded with RFE features since the we aim to optimize through models other than Logistic Regression, which would be better without noise."
   ]
  },
  {
   "cell_type": "markdown",
   "metadata": {},
   "source": [
    "### PCA (Dimensionality Reduction) "
   ]
  },
  {
   "cell_type": "markdown",
   "metadata": {},
   "source": [
    "###### Discarded because only 1 PC was created which explained >99% of variance, hence not feasible for classification purposes (accuracy score of 0.5141 on base-line model)"
   ]
  },
  {
   "cell_type": "raw",
   "metadata": {},
   "source": [
    "X_train, X_test, y_train, y_test = data_split(dataset)\n",
    "\n",
    "pca=PCA(n_components=int((feats_bestcv/2).round()), whiten=True, svd_solver='auto')\n",
    "pca.fit(X_train)\n",
    "\n",
    "print(pca.explained_variance_ratio_)\n",
    "\n",
    "pca.n_components_\n",
    "\n",
    "def model_PCA_prep(feature_set):\n",
    "    X_train, X_test, y_train, y_test = data_split(feature_set)\n",
    "    X_pca_train = pca.fit_transform(X_train)\n",
    "    X_pca_train2 = pca.fit_transform(X_pca_train)\n",
    "    X_pca_test =  pca.fit_transform(X_test)\n",
    "    X_pca_test2 = pca.fit_transform(X_pca_test)\n",
    "    return X_pca_train2, X_pca_test2, y_train, y_test  \n",
    "\n",
    "X_pca_train, X_pca_test, y_train, y_test = model_PCA_prep(dataset)\n",
    "\n",
    "logreg.fit(X_pca_train, y_train)\n",
    "y_pred_PCA=model1.predict(X_pca_test)\n",
    "score=accuracy_score(y_test, y_pred_PCA)\n",
    "score"
   ]
  },
  {
   "cell_type": "markdown",
   "metadata": {},
   "source": [
    "## Bayesian optimization method for creating 4 primary models"
   ]
  },
  {
   "cell_type": "code",
   "execution_count": 22,
   "metadata": {},
   "outputs": [
    {
     "name": "stdout",
     "output_type": "stream",
     "text": [
      "['functional' 'functional needs repair' 'non functional']\n"
     ]
    }
   ],
   "source": [
    "X_train, X_test, y_train, y_test = data_split(features_RFE)"
   ]
  },
  {
   "cell_type": "markdown",
   "metadata": {},
   "source": [
    "### Model 1 - Random Forest Classifier"
   ]
  },
  {
   "cell_type": "raw",
   "metadata": {},
   "source": [
    "def rfc_cv(n_estimators, min_samples_split, max_features, data, targets):\n",
    "    \"\"\"Random Forest cross validation.\n",
    "    This function will instantiate a random forest classifier with parameters\n",
    "    n_estimators, min_samples_split, and max_features. Combined with data and\n",
    "    targets this will in turn be used to perform cross validation. The result\n",
    "    of cross validation is returned.\n",
    "    Our goal is to find combinations of n_estimators, min_samples_split, and\n",
    "    max_features that minimzes the log loss.\n",
    "    \"\"\"\n",
    "    estimator = RandomForestClassifier(\n",
    "        n_estimators=n_estimators,\n",
    "        min_samples_split=min_samples_split,\n",
    "        max_features=max_features,\n",
    "        random_state=2\n",
    "        )\n",
    "    cval = cross_val_score(estimator, data, targets,\n",
    "                           scoring='accuracy', cv=4)\n",
    "    return cval.mean()\n",
    "\n",
    "\n",
    "def optimize_rfc(data, targets):\n",
    "    \"\"\"Apply Bayesian Optimization to Random Forest parameters.\"\"\"\n",
    "    def rfc_crossval(n_estimators, min_samples_split, max_features):\n",
    "        \"\"\"Wrapper of RandomForest cross validation.\n",
    "        Notice how we ensure n_estimators and min_samples_split are casted\n",
    "        to integer before we pass them along. Moreover, to avoid max_features\n",
    "        taking values outside the (0, 1) range, we also ensure it is capped\n",
    "        accordingly.\n",
    "        \"\"\"\n",
    "        return rfc_cv(\n",
    "            n_estimators=int(n_estimators),\n",
    "            min_samples_split=int(min_samples_split),\n",
    "            max_features=max(min(max_features, 0.999), 1e-3),\n",
    "            data=data,\n",
    "            targets=targets,\n",
    "        )\n",
    "\n",
    "    optimizer = BayesianOptimization(\n",
    "        f=rfc_crossval,\n",
    "        pbounds={\n",
    "            \"n_estimators\": (10, 250),\n",
    "            \"min_samples_split\": (2, 25),\n",
    "            \"max_features\": (0.1, 0.999),\n",
    "        },\n",
    "        random_state=1234,\n",
    "        verbose=2\n",
    "    )\n",
    "    optimizer.maximize(n_iter=10)\n",
    "    print(\"Final result:\", optimizer.max)"
   ]
  },
  {
   "cell_type": "code",
   "execution_count": 23,
   "metadata": {},
   "outputs": [],
   "source": [
    "model_RFC_opt = RandomForestClassifier(n_estimators=115, min_samples_split=16, max_features=0.2722)"
   ]
  },
  {
   "cell_type": "code",
   "execution_count": 24,
   "metadata": {},
   "outputs": [
    {
     "name": "stdout",
     "output_type": "stream",
     "text": [
      "['functional' 'functional needs repair' 'non functional']\n"
     ]
    },
    {
     "data": {
      "text/plain": [
       "RandomForestClassifier(bootstrap=True, class_weight=None, criterion='gini',\n",
       "            max_depth=None, max_features=0.2722, max_leaf_nodes=None,\n",
       "            min_impurity_decrease=0.0, min_impurity_split=None,\n",
       "            min_samples_leaf=1, min_samples_split=16,\n",
       "            min_weight_fraction_leaf=0.0, n_estimators=115, n_jobs=None,\n",
       "            oob_score=False, random_state=None, verbose=0,\n",
       "            warm_start=False)"
      ]
     },
     "execution_count": 24,
     "metadata": {},
     "output_type": "execute_result"
    }
   ],
   "source": [
    "X_train, X_test, y_train, y_test = data_split(features_RFE)\n",
    "model_RFC_opt.fit(X_train, y_train)"
   ]
  },
  {
   "cell_type": "code",
   "execution_count": 25,
   "metadata": {},
   "outputs": [],
   "source": [
    "y_pred_RFC = model_RFC_opt.predict(X_test)"
   ]
  },
  {
   "cell_type": "code",
   "execution_count": 26,
   "metadata": {},
   "outputs": [
    {
     "data": {
      "text/plain": [
       "0.8027777777777778"
      ]
     },
     "execution_count": 26,
     "metadata": {},
     "output_type": "execute_result"
    }
   ],
   "source": [
    "score_RFC = accuracy_score(y_test, y_pred_RFC)\n",
    "score_RFC"
   ]
  },
  {
   "cell_type": "markdown",
   "metadata": {},
   "source": [
    "### Model 2 - KNearestNeighbours model"
   ]
  },
  {
   "cell_type": "raw",
   "metadata": {},
   "source": [
    "def knn_cv(n_neighbours, p, leaf_size, data, targets):\n",
    "    estimator = KNeighborsClassifier(algorithm='kd_tree', \n",
    "                                     n_neighbors=n_neighbours,\n",
    "                                     weights='distance',\n",
    "                                     p=p,\n",
    "                                     leaf_size=leaf_size,\n",
    "                                     n_jobs=-1\n",
    "                                    )\n",
    "    cval = cross_val_score(estimator, data, targets,\n",
    "                           scoring='accuracy', cv=5)\n",
    "    return cval.mean()\n",
    "\n",
    "def optimize_knn(data, targets):\n",
    "    \"\"\"Apply Bayesian Optimization to KNN parameters.\"\"\"\n",
    "    def knn_crossval(n_neighbours, p, leaf_size):\n",
    "        return knn_cv(\n",
    "            n_neighbours=int(n_neighbours),\n",
    "            p=int(p),\n",
    "            leaf_size=int(leaf_size),\n",
    "            data=data,\n",
    "            targets=targets)\n",
    "    optimizer = BayesianOptimization(\n",
    "        f=knn_crossval,\n",
    "        pbounds={\n",
    "            \"n_neighbours\": (5, 20),\n",
    "            \"p\": (1, 2),\n",
    "            \"leaf_size\": (20, 40)\n",
    "        },\n",
    "        random_state=1234)\n",
    "    optimizer.maximize(n_iter=10)\n",
    "    print(\"Final result:\", optimizer.max)"
   ]
  },
  {
   "cell_type": "raw",
   "metadata": {},
   "source": [
    "X_train, X_test, y_train, y_test = data_split(features_RFE)\n",
    "optimize_knn(X_train, y_train)"
   ]
  },
  {
   "cell_type": "code",
   "execution_count": 27,
   "metadata": {},
   "outputs": [],
   "source": [
    "model_KNN_opt = KNeighborsClassifier(algorithm='kd_tree', weights='distance', n_jobs=-1, n_neighbors=15, leaf_size=29, p=1)"
   ]
  },
  {
   "cell_type": "code",
   "execution_count": 28,
   "metadata": {
    "scrolled": true
   },
   "outputs": [
    {
     "data": {
      "text/plain": [
       "KNeighborsClassifier(algorithm='kd_tree', leaf_size=29, metric='minkowski',\n",
       "           metric_params=None, n_jobs=-1, n_neighbors=15, p=1,\n",
       "           weights='distance')"
      ]
     },
     "execution_count": 28,
     "metadata": {},
     "output_type": "execute_result"
    }
   ],
   "source": [
    "model_KNN_opt.fit(X_train, y_train)"
   ]
  },
  {
   "cell_type": "code",
   "execution_count": 29,
   "metadata": {},
   "outputs": [],
   "source": [
    "y_pred_KNN = model_KNN_opt.predict(X_test)"
   ]
  },
  {
   "cell_type": "code",
   "execution_count": 30,
   "metadata": {},
   "outputs": [
    {
     "name": "stdout",
     "output_type": "stream",
     "text": [
      "['functional' 'functional needs repair' 'non functional']\n"
     ]
    },
    {
     "data": {
      "text/plain": [
       "array(['functional', 'non functional', 'functional', ...,\n",
       "       'non functional', 'non functional', 'functional'], dtype=object)"
      ]
     },
     "execution_count": 30,
     "metadata": {},
     "output_type": "execute_result"
    }
   ],
   "source": [
    "y_pred_KNN_cat = target_decoding(y_pred_KNN)\n",
    "y_pred_KNN_cat"
   ]
  },
  {
   "cell_type": "code",
   "execution_count": 31,
   "metadata": {},
   "outputs": [
    {
     "data": {
      "text/plain": [
       "0.7762626262626262"
      ]
     },
     "execution_count": 31,
     "metadata": {},
     "output_type": "execute_result"
    }
   ],
   "source": [
    "score_KNN = accuracy_score(y_test, y_pred_KNN)\n",
    "score_KNN"
   ]
  },
  {
   "cell_type": "markdown",
   "metadata": {},
   "source": [
    "### Model 3 - XGBoost Trees"
   ]
  },
  {
   "cell_type": "raw",
   "metadata": {},
   "source": [
    "model_XGB_basic = XGBClassifier(booster = 'gbtree', objective = 'multi:softmax', eval_metric = \"merror\", \n",
    "                          importance_type = 'total_cover', n_jobs=-1, silent=True)"
   ]
  },
  {
   "cell_type": "raw",
   "metadata": {},
   "source": [
    "XGB_params = {'learning_rate': (0.2, 0.5), 'gamma': (0, 1), 'max_depth': (5, 20), 'min_child_weight': (0.8, 2), 'max_delta_step': (0, 10), \n",
    "              'subsample': (0.5, 1), 'colsample_bytree': (0.5, 1), 'reg_lambda': (0.5, 1.5), 'reg_alpha': (0, 1)}"
   ]
  },
  {
   "cell_type": "raw",
   "metadata": {},
   "source": [
    "def xgb_cv(learning_rate, gamma, max_depth, min_child_weight, max_delta_step, subsample, colsample_bytree, reg_lambda, reg_alpha, data, targets):\n",
    "    estimator = XGBClassifier(booster = 'gbtree', objective = 'multi:softmax', eval_metric = \"merror\", \n",
    "                              importance_type = 'total_cover', n_jobs=-1,\n",
    "                              learning_rate=learning_rate, gamma=gamma, max_depth=max_depth, \n",
    "                              min_child_weight=min_child_weight, \n",
    "                              max_delta_step=max_delta_step, \n",
    "                              subsample=subsample, colsample_bytree=colsample_bytree, \n",
    "                              reg_lambda=reg_lambda, reg_alpha=reg_alpha) \n",
    "                              \n",
    "    cval = cross_val_score(estimator, data, targets,\n",
    "                           scoring='accuracy', cv=5)\n",
    "    return cval.mean()\n",
    "\n",
    "def optimize_xgb(data, targets):\n",
    "    def xgb_crossval(learning_rate, gamma, max_depth, min_child_weight, max_delta_step, subsample, colsample_bytree, reg_lambda, reg_alpha):\n",
    "        return xgb_cv(\n",
    "            learning_rate=float(learning_rate), gamma=float(gamma), max_depth=int(max_depth), min_child_weight=float(min_child_weight), \n",
    "            max_delta_step=int(max_delta_step), subsample=float(subsample), \n",
    "            colsample_bytree=float(colsample_bytree), reg_lambda=float(reg_lambda), reg_alpha=float(reg_alpha),\n",
    "            data=data,\n",
    "            targets=targets)\n",
    "    optimizer = BayesianOptimization(\n",
    "        f=xgb_crossval,\n",
    "        pbounds={'learning_rate': (0.2, 0.5), 'gamma': (0, 1), 'max_depth': (5, 20), 'min_child_weight': (0.8, 2),\n",
    "        'max_delta_step': (0, 10), 'subsample': (0.5, 1), 'colsample_bytree': (0.5, 1), 'reg_lambda': (0.5, 1.5), \n",
    "        'reg_alpha': (0, 1)},\n",
    "        random_state=1234)\n",
    "    optimizer.maximize(n_iter=10)\n",
    "    print(\"Final result:\", optimizer.max)"
   ]
  },
  {
   "cell_type": "raw",
   "metadata": {},
   "source": [
    "X_train, X_test, y_train, y_test = data_split(features_RFE)\n",
    "optimize_xgb(X_train, y_train)"
   ]
  },
  {
   "cell_type": "code",
   "execution_count": 32,
   "metadata": {},
   "outputs": [],
   "source": [
    "model_XGB_opt = XGBClassifier(booster = 'gbtree', objective = 'multi:softprob', eval_metric = \"mlogloss\",\n",
    "                              learning_rate=0.5958, gamma=0.6221, max_depth=16, \n",
    "                              min_child_weight=1.127, max_delta_step=8, subsample=0.9791, \n",
    "                              colsample_bytree=0.5958, reg_lambda=1.302, \n",
    "                              reg_alpha=0.2765, importance_type = 'total_cover', n_jobs=-1, silent=True)"
   ]
  },
  {
   "cell_type": "code",
   "execution_count": 33,
   "metadata": {},
   "outputs": [
    {
     "data": {
      "text/plain": [
       "0.7968855218855219"
      ]
     },
     "execution_count": 33,
     "metadata": {},
     "output_type": "execute_result"
    }
   ],
   "source": [
    "model_XGB_opt.fit(X_train, y_train)\n",
    "y_pred_xgb = model_XGB_opt.predict(X_test)\n",
    "scores_xgb = accuracy_score(y_test, y_pred_xgb)\n",
    "scores_xgb"
   ]
  },
  {
   "cell_type": "markdown",
   "metadata": {},
   "source": [
    "### Model 4 - Multi-nomial Naive Bayes Model"
   ]
  },
  {
   "cell_type": "raw",
   "metadata": {},
   "source": [
    "def mnb_cv(alpha, data, targets):\n",
    "    estimator = MultinomialNB(alpha=alpha) \n",
    "                              \n",
    "    cval = cross_val_score(estimator, data, targets,\n",
    "                           scoring='accuracy', cv=5)\n",
    "    return cval.mean()\n",
    "\n",
    "def optimize_mnb(data, targets):\n",
    "    def mnb_crossval(alpha):\n",
    "        return mnb_cv(alpha=float(alpha),\n",
    "            data=data,\n",
    "            targets=targets)\n",
    "    optimizer = BayesianOptimization(\n",
    "        f=mnb_crossval,\n",
    "        pbounds={'alpha': (10, 30)},\n",
    "        random_state=1234)\n",
    "    optimizer.maximize(n_iter=10)\n",
    "    print(\"Final result:\", optimizer.max)"
   ]
  },
  {
   "cell_type": "raw",
   "metadata": {},
   "source": [
    "X_train, X_test, y_train, y_test = data_split(features_RFE)\n",
    "optimize_mnb(X_train, y_train)"
   ]
  },
  {
   "cell_type": "code",
   "execution_count": 34,
   "metadata": {},
   "outputs": [],
   "source": [
    "model_MNB_opt = MultinomialNB(alpha=25.71)"
   ]
  },
  {
   "cell_type": "code",
   "execution_count": 35,
   "metadata": {},
   "outputs": [
    {
     "data": {
      "text/plain": [
       "0.6871632996632997"
      ]
     },
     "execution_count": 35,
     "metadata": {},
     "output_type": "execute_result"
    }
   ],
   "source": [
    "model_MNB_opt.fit(X_train, y_train)\n",
    "y_pred_MNB = model_MNB_opt.predict(X_test)\n",
    "accuracy_score(y_test, y_pred_MNB)"
   ]
  },
  {
   "cell_type": "markdown",
   "metadata": {},
   "source": [
    "## Optimized Stacked Model - Random Forest Classifier"
   ]
  },
  {
   "cell_type": "markdown",
   "metadata": {},
   "source": [
    "This optimization code was run basis the stacked_df which is created at end of stacking pipeline. However, for sake of readability (and flow) this code appears here "
   ]
  },
  {
   "cell_type": "raw",
   "metadata": {},
   "source": [
    "def rfc_cv(n_estimators, min_samples_split, max_features, data, targets):\n",
    "    estimator = RandomForestClassifier(\n",
    "        n_estimators=n_estimators,\n",
    "        min_samples_split=min_samples_split,\n",
    "        max_features=max_features, class_weight='balanced',\n",
    "        random_state=2\n",
    "    )\n",
    "    cval = cross_val_score(estimator, data, targets,\n",
    "                           scoring='accuracy', cv=4)\n",
    "    return cval.mean()\n",
    "\n",
    "\n",
    "def optimize_rfc(data, targets):\n",
    "    def rfc_crossval(n_estimators, min_samples_split, max_features):\n",
    "        return rfc_cv(\n",
    "            n_estimators=int(n_estimators),\n",
    "            min_samples_split=int(min_samples_split),\n",
    "            max_features=max(min(max_features, 0.999), 1e-3),\n",
    "            data=data,\n",
    "            targets=targets)\n",
    "\n",
    "    optimizer = BayesianOptimization(\n",
    "        f=rfc_crossval,\n",
    "        pbounds={\n",
    "            \"n_estimators\": (10, 250),\n",
    "            \"min_samples_split\": (2, 25),\n",
    "            \"max_features\": (0.1, 0.999)\n",
    "        },\n",
    "        random_state=1234,\n",
    "        verbose=2\n",
    "    )\n",
    "    optimizer.maximize(n_iter=10)\n",
    "    print(\"Final result:\", optimizer.max)\n",
    "\n",
    "rfc = RandomForestClassifier(n_estimators=10, class_weight='balanced')\n",
    "\n",
    "# Read created df from earlier in case required\n",
    "stacked_df = pd.read_csv('.../stacked_df.csv')\n",
    "stacked_df.drop('Unnamed: 0', axis=1)\n",
    "\n",
    "X = stacked_df.loc[:, stacked_df.columns!='y_target']\n",
    "y = stacked_df.loc[:, 'y_target']\n",
    "\n",
    "optimize_rfc(X, y)"
   ]
  },
  {
   "cell_type": "code",
   "execution_count": 36,
   "metadata": {},
   "outputs": [],
   "source": [
    "# create optimized RFC basis the parameters found above (refer images attached in zip file)\n",
    "\n",
    "stacked_RFC = RandomForestClassifier(class_weight='balanced', max_features=0.1412, \n",
    "                                     min_samples_split=25, n_estimators=180, n_jobs=-1)"
   ]
  },
  {
   "cell_type": "markdown",
   "metadata": {},
   "source": [
    "## Other models (WIP)"
   ]
  },
  {
   "cell_type": "markdown",
   "metadata": {},
   "source": [
    "### LDA"
   ]
  },
  {
   "cell_type": "code",
   "execution_count": 37,
   "metadata": {},
   "outputs": [],
   "source": [
    "from sklearn.discriminant_analysis import LinearDiscriminantAnalysis, QuadraticDiscriminantAnalysis"
   ]
  },
  {
   "cell_type": "code",
   "execution_count": 38,
   "metadata": {},
   "outputs": [
    {
     "name": "stdout",
     "output_type": "stream",
     "text": [
      "['functional' 'functional needs repair' 'non functional']\n"
     ]
    }
   ],
   "source": [
    "model_LDA = LinearDiscriminantAnalysis(solver='svd', n_components=145)\n",
    "X_train, X_test, y_train, y_test = data_split(features_RFE)"
   ]
  },
  {
   "cell_type": "code",
   "execution_count": 39,
   "metadata": {},
   "outputs": [
    {
     "name": "stderr",
     "output_type": "stream",
     "text": [
      "C:\\Users\\vratu\\Anaconda3\\lib\\site-packages\\sklearn\\discriminant_analysis.py:388: UserWarning: Variables are collinear.\n",
      "  warnings.warn(\"Variables are collinear.\")\n"
     ]
    }
   ],
   "source": [
    "model_LDA.fit(X_train, y_train)\n",
    "y_pred_LDA = model_LDA.predict(X_test)"
   ]
  },
  {
   "cell_type": "code",
   "execution_count": 40,
   "metadata": {},
   "outputs": [
    {
     "data": {
      "text/plain": [
       "0.7296296296296296"
      ]
     },
     "execution_count": 40,
     "metadata": {},
     "output_type": "execute_result"
    }
   ],
   "source": [
    "scores_LDA= accuracy_score(y_test, y_pred_LDA, normalize=True)\n",
    "scores_LDA.mean()"
   ]
  },
  {
   "cell_type": "markdown",
   "metadata": {},
   "source": [
    "# Final Stacking and Pipeline"
   ]
  },
  {
   "cell_type": "code",
   "execution_count": 41,
   "metadata": {},
   "outputs": [],
   "source": [
    "def stacked_model_fits(df):\n",
    "    X = df.loc[:, df.columns != 'status_group']\n",
    "    y1 = df.loc[:, 'status_group']\n",
    "    y=target_encoding(y1)\n",
    "    model_RFC_opt.fit(X, y)\n",
    "    model_XGB_opt.fit(X, y)\n",
    "    model_MNB_opt.fit(X, y)\n",
    "    model_KNN_opt.fit(X, y)\n",
    "\n",
    "def stacked_1_predict(X, y):\n",
    "    y_pred_RFC = cross_val_predict(model_RFC_opt, X, y, cv=5)\n",
    "    y_pred_XGB = cross_val_predict(model_XGB_opt, X, y, cv=5)\n",
    "    y_pred_MNB = cross_val_predict(model_MNB_opt, X, y, cv=5)\n",
    "    y_pred_KNN = cross_val_predict(model_KNN_opt, X, y, cv=5)\n",
    "    \n",
    "    RFC_pred = pd.Series(y_pred_RFC.flatten(), name='rfc')\n",
    "    XGB_pred = pd.Series(y_pred_XGB.flatten(), name='xgb')\n",
    "    MNB_pred = pd.Series(y_pred_MNB.flatten(), name='mnb')\n",
    "    KNN_pred = pd.Series(y_pred_KNN.flatten(), name='knn')\n",
    "    y_target = pd.Series(y, name='y_target')\n",
    "    stack_features_final = pd.concat([X['longitude'], X['latitude'], RFC_pred, XGB_pred, MNB_pred, KNN_pred, y_target], axis=1)\n",
    "    return stack_features_final\n",
    "\n",
    "def stacked_2_predict(X):\n",
    "    y_pred_RFC2 = model_RFC_opt.predict(X)\n",
    "    y_pred_XGB2 = model_XGB_opt.predict(X)\n",
    "    y_pred_MNB2 = model_MNB_opt.predict(X)\n",
    "    y_pred_KNN2 = model_KNN_opt.predict(X)\n",
    "    \n",
    "    RFC_pred2 = pd.Series(y_pred_RFC2.flatten(), name='rfc')\n",
    "    XGB_pred2 = pd.Series(y_pred_XGB2.flatten(), name='xgb')\n",
    "    MNB_pred2 = pd.Series(y_pred_MNB2.flatten(), name='mnb')\n",
    "    KNN_pred2 = pd.Series(y_pred_KNN2.flatten(), name='knn')\n",
    "    stack_features_final = pd.concat([X['longitude'], X['latitude'], RFC_pred2, XGB_pred2, MNB_pred2, KNN_pred2], axis=1)\n",
    "    return stack_features_final\n",
    "\n",
    "def stacked_model_predict(df):\n",
    "    stacked_model=make_pipeline(PolynomialFeatures(2), stacked_RFC)\n",
    "    \n",
    "    stacked_model_fits(df)\n",
    "    \n",
    "    X = df.loc[:, df.columns != 'status_group']\n",
    "    y1 = df.loc[:, 'status_group']\n",
    "    y=target_encoding(y1)\n",
    "    df_stacked = stacked_1_predict(X, y)\n",
    "    \n",
    "    X2 = df_stacked.loc[:, df_stacked.columns != 'y_target']\n",
    "    y2 = df_stacked.loc[:, 'y_target']\n",
    "    X2_train, X2_test, y2_train, y2_test = train_test_split(X2, y2, test_size=0.20, random_state=123)\n",
    "    \n",
    "    stacked_model.fit(X2_train, y2_train)\n",
    "    y_pred_stacked = stacked_model.predict(X2_test)\n",
    "    scores_stacked = accuracy_score(y2_test, y_pred_stacked)\n",
    "    return stacked_model, scores_stacked\n",
    "\n",
    "def stacked_model_final_upload(stacked_model, df_test_prepared):\n",
    "    stacked_test = stacked_2_predict(df_test_prepared) \n",
    "    prediction = stacked_model.predict(stacked_test)\n",
    "    prediction_cat = pd.Series(target_decoding(prediction))\n",
    "    prediction_cat.to_csv('C:\\\\Users\\\\vratu\\\\OneDrive\\\\Desktop\\\\MBD\\\\MBD_Term_2\\\\Machine Learning 2\\\\Group Assignment\\\\Upload_predictions.csv')\n",
    "    #return prediction"
   ]
  },
  {
   "cell_type": "markdown",
   "metadata": {},
   "source": [
    "## Fit the primary models with entire training set"
   ]
  },
  {
   "cell_type": "code",
   "execution_count": 42,
   "metadata": {},
   "outputs": [
    {
     "name": "stdout",
     "output_type": "stream",
     "text": [
      "['functional' 'functional needs repair' 'non functional']\n"
     ]
    }
   ],
   "source": [
    "stacked_model_fits(features_RFE)"
   ]
  },
  {
   "cell_type": "markdown",
   "metadata": {},
   "source": [
    "## Fit the stacked RFC model"
   ]
  },
  {
   "cell_type": "code",
   "execution_count": 43,
   "metadata": {},
   "outputs": [
    {
     "name": "stdout",
     "output_type": "stream",
     "text": [
      "['functional' 'functional needs repair' 'non functional']\n",
      "['functional' 'functional needs repair' 'non functional']\n"
     ]
    }
   ],
   "source": [
    "stacked_RFC_model_fitted, scores = stacked_model_predict(features_RFE)  "
   ]
  },
  {
   "cell_type": "code",
   "execution_count": 44,
   "metadata": {},
   "outputs": [
    {
     "data": {
      "text/plain": [
       "0.7758417508417509"
      ]
     },
     "execution_count": 44,
     "metadata": {},
     "output_type": "execute_result"
    }
   ],
   "source": [
    "scores # test and validate the stacked RFC model"
   ]
  },
  {
   "cell_type": "markdown",
   "metadata": {},
   "source": [
    "##### Export CSV for later use"
   ]
  },
  {
   "cell_type": "code",
   "execution_count": 45,
   "metadata": {},
   "outputs": [
    {
     "name": "stdout",
     "output_type": "stream",
     "text": [
      "['functional' 'functional needs repair' 'non functional']\n"
     ]
    }
   ],
   "source": [
    "X = features_RFE.loc[:, features_RFE.columns != 'status_group']\n",
    "y1 = features_RFE.loc[:, 'status_group']\n",
    "y = target_encoding(y1)\n",
    "stacked_df = stacked_1_predict(X, y)"
   ]
  },
  {
   "cell_type": "code",
   "execution_count": 47,
   "metadata": {},
   "outputs": [],
   "source": [
    "#stacked_df.to_csv('...\\stacked_df.csv')"
   ]
  },
  {
   "cell_type": "markdown",
   "metadata": {},
   "source": [
    "## Import and predict on the test Data-set (for upload)"
   ]
  },
  {
   "cell_type": "markdown",
   "metadata": {},
   "source": [
    "### Data preperation"
   ]
  },
  {
   "cell_type": "code",
   "execution_count": 48,
   "metadata": {},
   "outputs": [],
   "source": [
    "df_test_raw = pd.read_csv('C:\\\\Users\\\\vratu\\\\OneDrive\\\\Desktop\\\\MBD\\\\MBD_Term_2\\\\Machine Learning 2\\\\Group Assignment\\\\Test_set_values_joined_prepared.csv')"
   ]
  },
  {
   "cell_type": "code",
   "execution_count": 49,
   "metadata": {},
   "outputs": [],
   "source": [
    "#df_test_raw.describe().T"
   ]
  },
  {
   "cell_type": "code",
   "execution_count": 50,
   "metadata": {},
   "outputs": [],
   "source": [
    "data_test = df_test_raw.drop(['id', 'months_since_recorded', 'date_recorded_day', 'date_recorded_month', 'construction_year'], axis=1)\n",
    "\n",
    "## Feature prep\n",
    "\n",
    "def t_fix_types_category(df):\n",
    "    df['date_recorded_year'] = df['date_recorded_year'].astype('uint8')\n",
    "    df['funder'] = df['funder'].astype('category')\n",
    "    df['installer'] = df['installer'].astype('category')\n",
    "    df['basin'] = df['basin'].astype('category')\n",
    "    df['region'] = df['region'].astype('category')\n",
    "    df['region-dist'] = df['region-dist'].astype('category')\n",
    "    df['scheme_management'] = df['scheme_management'].astype('category')\n",
    "    df['extraction_type_class'] = df['extraction_type_class'].astype('category')\n",
    "    df['management_group'] = df['management_group'].astype('category')\n",
    "    df['payment'] = df['payment'].astype('category')\n",
    "    df['quality_group'] = df['quality_group'].astype('category')\n",
    "    df['quantity'] = df['quantity'].astype('category')\n",
    "    df['source_type'] = df['source_type'].astype('category')\n",
    "    df['source_class'] = df['source_class'].astype('category')\n",
    "    df['waterpoint_type_group'] = df['waterpoint_type_group'].astype('category')\n",
    "    return df\n",
    "\n",
    "\n",
    "def t_onehot_encode(df):\n",
    "    df1 = df\n",
    "    numericals = df1.get(numerical_features(df1))\n",
    "    new_df = numericals.copy()\n",
    "    for categorical_column in categorical_features(df1):\n",
    "        new_df = pd.concat([new_df, \n",
    "                            pd.get_dummies(df1[categorical_column], \n",
    "                                           prefix=categorical_column)], \n",
    "                           axis=1)\n",
    "    return new_df\n",
    "\n",
    "def t_data_prep(df):\n",
    "    temp = df\n",
    "    aux = t_fix_types_category(temp)\n",
    "    aux2 = scale(aux)\n",
    "    aux3 = fix_skewness(aux2)\n",
    "    aux4 = scale(aux3)\n",
    "    final = t_onehot_encode(aux4)\n",
    "    return final"
   ]
  },
  {
   "cell_type": "markdown",
   "metadata": {},
   "source": [
    "#### Feature selection basis RFE "
   ]
  },
  {
   "cell_type": "code",
   "execution_count": 54,
   "metadata": {},
   "outputs": [
    {
     "name": "stderr",
     "output_type": "stream",
     "text": [
      "C:\\Users\\vratu\\Anaconda3\\lib\\site-packages\\sklearn\\preprocessing\\data.py:323: DataConversionWarning: Data with input dtype uint8 were all converted to float64 by MinMaxScaler.\n",
      "  return self.partial_fit(X, y)\n"
     ]
    }
   ],
   "source": [
    "df_test = t_data_prep(data_test)\n",
    "\n",
    "test_features_RFE = np.delete(featuresnames_RFE, -1) # drop 'status_group' as target\n",
    "\n",
    "df_test2 = df_test[test_features_RFE]"
   ]
  },
  {
   "cell_type": "raw",
   "metadata": {},
   "source": [
    "## If the post RFE features are not created in the hold-out dataset then create the features with 0 imputed value (as our training dataset was scaled from 0-1)  \n",
    "\n",
    "t_feats_names = [] # LIST OF FEATURE NAMES ABSENT FROM HOLD-OUT SET POST TRANSFORMATION\n",
    "\n",
    "for i in t_feats_names:\n",
    "    df_test[i] = 0  #impute 0 for the missing column values to run the fitted stacked models\n",
    "\n",
    "test_features_RFE = np.delete(featuresnames_RFE, -1) # to delete the 'status_group' target in original training data-set\n",
    "\n",
    "f_test = df_test[test_features_RFE]\n",
    "df_test.describe().T"
   ]
  },
  {
   "cell_type": "markdown",
   "metadata": {},
   "source": [
    "### Final Upload file creation"
   ]
  },
  {
   "cell_type": "code",
   "execution_count": null,
   "metadata": {},
   "outputs": [],
   "source": [
    "stacked_model_final_upload(stacked_RFC_model_fitted, df_test2)"
   ]
  },
  {
   "cell_type": "markdown",
   "metadata": {},
   "source": [
    "##### After creating CSV of predictions, we have re-indexed from submission format and added column-names"
   ]
  },
  {
   "cell_type": "markdown",
   "metadata": {},
   "source": [
    "### Create file for upload basis the primary RFC Model (training on full set)"
   ]
  },
  {
   "cell_type": "code",
   "execution_count": null,
   "metadata": {},
   "outputs": [],
   "source": [
    "X = features_RFE.loc[:, features_RFE.columns != 'status_group']\n",
    "y1 = features_RFE.loc[:, 'status_group']\n",
    "y= target_encoding(y1)\n",
    "m1 = make_pipeline(PolynomialFeatures(), model_RFC_opt)\n",
    "                   \n",
    "m1.fit(X, y)\n",
    "y_pred_1 = m1.predict(df_test2)"
   ]
  },
  {
   "cell_type": "code",
   "execution_count": null,
   "metadata": {},
   "outputs": [],
   "source": [
    "y_cat_1 = pd.Series(target_decoding(y_pred_1))\n",
    "#y_cat_1.to_csv('.../Upload_predictions_RFCONLY.csv')"
   ]
  },
  {
   "cell_type": "markdown",
   "metadata": {},
   "source": [
    "### Create file for upload basis the primary KNN Model (training on full set)"
   ]
  },
  {
   "cell_type": "code",
   "execution_count": null,
   "metadata": {},
   "outputs": [],
   "source": [
    "X = features_RFE.loc[:, features_RFE.columns != 'status_group']\n",
    "y1 = features_RFE.loc[:, 'status_group']\n",
    "y= target_encoding(y1)\n",
    "m2 = make_pipeline(PolynomialFeatures(2), model_KNN_opt)\n",
    "                   \n",
    "m2.fit(X, y)\n",
    "y_pred_2 = m2.predict(df_test2)"
   ]
  },
  {
   "cell_type": "code",
   "execution_count": null,
   "metadata": {},
   "outputs": [],
   "source": [
    "y_cat_2 = pd.Series(target_decoding(y_pred_2))\n",
    "#y_cat_2.to_csv('.../Upload_predictions_KNNONLY.csv')"
   ]
  },
  {
   "cell_type": "markdown",
   "metadata": {},
   "source": [
    "### Create file for upload basis the primary XGB Model (training on full set)"
   ]
  },
  {
   "cell_type": "code",
   "execution_count": null,
   "metadata": {},
   "outputs": [],
   "source": [
    "X = features_RFE.loc[:, features_RFE.columns != 'status_group']\n",
    "y1 = features_RFE.loc[:, 'status_group']\n",
    "y= target_encoding(y1)\n",
    "m3 = make_pipeline(PolynomialFeatures(2), model_XGB_opt)\n",
    "                   \n",
    "m3.fit(X, y)\n",
    "y_pred_3 = m3.predict(df_test2)"
   ]
  },
  {
   "cell_type": "code",
   "execution_count": null,
   "metadata": {},
   "outputs": [],
   "source": [
    "y_cat_3 = pd.Series(target_decoding(y_pred_3))\n",
    "#y_cat_3.to_csv('.../Upload_predictions_XGBONLY.csv')"
   ]
  },
  {
   "cell_type": "markdown",
   "metadata": {},
   "source": [
    "### Create file for upload basis the primary MNB Model (training on full set)"
   ]
  },
  {
   "cell_type": "code",
   "execution_count": null,
   "metadata": {},
   "outputs": [],
   "source": [
    "X = features_RFE.loc[:, features_RFE.columns != 'status_group']\n",
    "y1 = features_RFE.loc[:, 'status_group']\n",
    "y= target_encoding(y1)\n",
    "m4 = make_pipeline(PolynomialFeatures(2), model_MNB_opt)\n",
    "                   \n",
    "m4.fit(X, y)\n",
    "y_pred_4 = m4.predict(df_test2)"
   ]
  },
  {
   "cell_type": "code",
   "execution_count": null,
   "metadata": {},
   "outputs": [],
   "source": [
    "y_cat_4 = pd.Series(target_decoding(y_pred_4))\n",
    "#y_cat_4.to_csv('.../Upload_predictions_MNBONLY.csv')"
   ]
  }
 ],
 "metadata": {
  "kernelspec": {
   "display_name": "Python 3",
   "language": "python",
   "name": "python3"
  }
 },
 "nbformat": 4,
 "nbformat_minor": 2
}
